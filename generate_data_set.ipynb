{
 "cells": [
  {
   "cell_type": "code",
   "execution_count": 1,
   "metadata": {},
   "outputs": [],
   "source": [
    "import os\n",
    "import napari\n",
    "import numpy as np\n",
    "\n",
    "from skimage.draw import disk\n",
    "from skimage.util import random_noise\n",
    "from skimage.io import imsave, imread\n",
    "\n",
    "from PIL import Image\n",
    "Image.MAX_IMAGE_PIXELS = None\n",
    "\n",
    "from dask import delayed\n",
    "import dask.array as da\n",
    "import zarr\n",
    "from ome_zarr.io import parse_url\n",
    "from ome_zarr.reader import Reader\n",
    "from ome_zarr.writer import write_image"
   ]
  },
  {
   "cell_type": "code",
   "execution_count": 6,
   "metadata": {},
   "outputs": [],
   "source": [
    "data_dir = './noise_png'\n",
    "\n",
    "# Number of disk objects\n",
    "N = 500\n",
    "\n",
    "# Number of frames\n",
    "M = 100\n",
    "\n",
    "frame_size = 15000  # Frame size"
   ]
  },
  {
   "cell_type": "code",
   "execution_count": 116,
   "metadata": {},
   "outputs": [
    {
     "ename": "KeyboardInterrupt",
     "evalue": "",
     "output_type": "error",
     "traceback": [
      "\u001b[1;31m---------------------------------------------------------------------------\u001b[0m",
      "\u001b[1;31mAttributeError\u001b[0m                            Traceback (most recent call last)",
      "File \u001b[1;32mc:\\Users\\kmk280\\.conda\\envs\\napari-dev-env\\lib\\site-packages\\PIL\\ImageFile.py:515\u001b[0m, in \u001b[0;36m_save\u001b[1;34m(im, fp, tile, bufsize)\u001b[0m\n\u001b[0;32m    514\u001b[0m \u001b[39mtry\u001b[39;00m:\n\u001b[1;32m--> 515\u001b[0m     fh \u001b[39m=\u001b[39m fp\u001b[39m.\u001b[39;49mfileno()\n\u001b[0;32m    516\u001b[0m     fp\u001b[39m.\u001b[39mflush()\n",
      "\u001b[1;31mAttributeError\u001b[0m: '_idat' object has no attribute 'fileno'",
      "\nDuring handling of the above exception, another exception occurred:\n",
      "\u001b[1;31mKeyboardInterrupt\u001b[0m                         Traceback (most recent call last)",
      "\u001b[1;32md:\\kasia\\tracking\\E6_exp\\code\\tests\\generate_data_set.ipynb Cell 3\u001b[0m line \u001b[0;36m4\n\u001b[0;32m     <a href='vscode-notebook-cell:/d%3A/kasia/tracking/E6_exp/code/tests/generate_data_set.ipynb#X32sZmlsZQ%3D%3D?line=45'>46</a>\u001b[0m frame_noise \u001b[39m=\u001b[39m frame_noise\u001b[39m.\u001b[39mastype(np\u001b[39m.\u001b[39muint16)\n\u001b[0;32m     <a href='vscode-notebook-cell:/d%3A/kasia/tracking/E6_exp/code/tests/generate_data_set.ipynb#X32sZmlsZQ%3D%3D?line=47'>48</a>\u001b[0m \u001b[39m# Save frame\u001b[39;00m\n\u001b[1;32m---> <a href='vscode-notebook-cell:/d%3A/kasia/tracking/E6_exp/code/tests/generate_data_set.ipynb#X32sZmlsZQ%3D%3D?line=48'>49</a>\u001b[0m imsave(os\u001b[39m.\u001b[39;49mpath\u001b[39m.\u001b[39;49mjoin(data_dir,\u001b[39mf\u001b[39;49m\u001b[39m'\u001b[39;49m\u001b[39m{\u001b[39;49;00m\u001b[39mstr\u001b[39;49m(frame)\u001b[39m.\u001b[39;49mzfill(\u001b[39m3\u001b[39;49m)\u001b[39m}\u001b[39;49;00m\u001b[39m.png\u001b[39;49m\u001b[39m'\u001b[39;49m), frame_noise)\n",
      "File \u001b[1;32mc:\\Users\\kmk280\\.conda\\envs\\napari-dev-env\\lib\\site-packages\\skimage\\io\\_io.py:143\u001b[0m, in \u001b[0;36mimsave\u001b[1;34m(fname, arr, plugin, check_contrast, **plugin_args)\u001b[0m\n\u001b[0;32m    141\u001b[0m \u001b[39mif\u001b[39;00m check_contrast \u001b[39mand\u001b[39;00m is_low_contrast(arr):\n\u001b[0;32m    142\u001b[0m     warn(\u001b[39mf\u001b[39m\u001b[39m'\u001b[39m\u001b[39m{\u001b[39;00mfname\u001b[39m}\u001b[39;00m\u001b[39m is a low contrast image\u001b[39m\u001b[39m'\u001b[39m)\n\u001b[1;32m--> 143\u001b[0m \u001b[39mreturn\u001b[39;00m call_plugin(\u001b[39m'\u001b[39m\u001b[39mimsave\u001b[39m\u001b[39m'\u001b[39m, fname, arr, plugin\u001b[39m=\u001b[39mplugin, \u001b[39m*\u001b[39m\u001b[39m*\u001b[39mplugin_args)\n",
      "File \u001b[1;32mc:\\Users\\kmk280\\.conda\\envs\\napari-dev-env\\lib\\site-packages\\skimage\\io\\manage_plugins.py:205\u001b[0m, in \u001b[0;36mcall_plugin\u001b[1;34m(kind, *args, **kwargs)\u001b[0m\n\u001b[0;32m    202\u001b[0m     \u001b[39mexcept\u001b[39;00m \u001b[39mIndexError\u001b[39;00m:\n\u001b[0;32m    203\u001b[0m         \u001b[39mraise\u001b[39;00m \u001b[39mRuntimeError\u001b[39;00m(\u001b[39mf\u001b[39m\u001b[39m'\u001b[39m\u001b[39mCould not find the plugin \u001b[39m\u001b[39m\"\u001b[39m\u001b[39m{\u001b[39;00mplugin\u001b[39m}\u001b[39;00m\u001b[39m\"\u001b[39m\u001b[39m for \u001b[39m\u001b[39m{\u001b[39;00mkind\u001b[39m}\u001b[39;00m\u001b[39m.\u001b[39m\u001b[39m'\u001b[39m)\n\u001b[1;32m--> 205\u001b[0m \u001b[39mreturn\u001b[39;00m func(\u001b[39m*\u001b[39margs, \u001b[39m*\u001b[39m\u001b[39m*\u001b[39mkwargs)\n",
      "File \u001b[1;32mc:\\Users\\kmk280\\.conda\\envs\\napari-dev-env\\lib\\site-packages\\imageio\\v3.py:147\u001b[0m, in \u001b[0;36mimwrite\u001b[1;34m(uri, image, plugin, extension, format_hint, **kwargs)\u001b[0m\n\u001b[0;32m    105\u001b[0m \u001b[39m\u001b[39m\u001b[39m\"\"\"Write an ndimage to the given URI.\u001b[39;00m\n\u001b[0;32m    106\u001b[0m \n\u001b[0;32m    107\u001b[0m \u001b[39mThe exact behavior depends on the file type and plugin used. To learn about\u001b[39;00m\n\u001b[1;32m   (...)\u001b[0m\n\u001b[0;32m    136\u001b[0m \n\u001b[0;32m    137\u001b[0m \u001b[39m\"\"\"\u001b[39;00m\n\u001b[0;32m    139\u001b[0m \u001b[39mwith\u001b[39;00m imopen(\n\u001b[0;32m    140\u001b[0m     uri,\n\u001b[0;32m    141\u001b[0m     \u001b[39m\"\u001b[39m\u001b[39mw\u001b[39m\u001b[39m\"\u001b[39m,\n\u001b[1;32m   (...)\u001b[0m\n\u001b[0;32m    145\u001b[0m     extension\u001b[39m=\u001b[39mextension,\n\u001b[0;32m    146\u001b[0m ) \u001b[39mas\u001b[39;00m img_file:\n\u001b[1;32m--> 147\u001b[0m     encoded \u001b[39m=\u001b[39m img_file\u001b[39m.\u001b[39mwrite(image, \u001b[39m*\u001b[39m\u001b[39m*\u001b[39mkwargs)\n\u001b[0;32m    149\u001b[0m \u001b[39mreturn\u001b[39;00m encoded\n",
      "File \u001b[1;32mc:\\Users\\kmk280\\.conda\\envs\\napari-dev-env\\lib\\site-packages\\imageio\\core\\v3_plugin_api.py:367\u001b[0m, in \u001b[0;36mPluginV3.__exit__\u001b[1;34m(self, type, value, traceback)\u001b[0m\n\u001b[0;32m    366\u001b[0m \u001b[39mdef\u001b[39;00m \u001b[39m__exit__\u001b[39m(\u001b[39mself\u001b[39m, \u001b[39mtype\u001b[39m, value, traceback) \u001b[39m-\u001b[39m\u001b[39m>\u001b[39m \u001b[39mNone\u001b[39;00m:\n\u001b[1;32m--> 367\u001b[0m     \u001b[39mself\u001b[39;49m\u001b[39m.\u001b[39;49mclose()\n",
      "File \u001b[1;32mc:\\Users\\kmk280\\.conda\\envs\\napari-dev-env\\lib\\site-packages\\imageio\\plugins\\pillow.py:123\u001b[0m, in \u001b[0;36mPillowPlugin.close\u001b[1;34m(self)\u001b[0m\n\u001b[0;32m    122\u001b[0m \u001b[39mdef\u001b[39;00m \u001b[39mclose\u001b[39m(\u001b[39mself\u001b[39m) \u001b[39m-\u001b[39m\u001b[39m>\u001b[39m \u001b[39mNone\u001b[39;00m:\n\u001b[1;32m--> 123\u001b[0m     \u001b[39mself\u001b[39;49m\u001b[39m.\u001b[39;49m_flush_writer()\n\u001b[0;32m    125\u001b[0m     \u001b[39mif\u001b[39;00m \u001b[39mself\u001b[39m\u001b[39m.\u001b[39m_image:\n\u001b[0;32m    126\u001b[0m         \u001b[39mself\u001b[39m\u001b[39m.\u001b[39m_image\u001b[39m.\u001b[39mclose()\n",
      "File \u001b[1;32mc:\\Users\\kmk280\\.conda\\envs\\napari-dev-env\\lib\\site-packages\\imageio\\plugins\\pillow.py:466\u001b[0m, in \u001b[0;36mPillowPlugin._flush_writer\u001b[1;34m(self)\u001b[0m\n\u001b[0;32m    463\u001b[0m     \u001b[39mself\u001b[39m\u001b[39m.\u001b[39msave_args[\u001b[39m\"\u001b[39m\u001b[39msave_all\u001b[39m\u001b[39m\"\u001b[39m] \u001b[39m=\u001b[39m \u001b[39mTrue\u001b[39;00m\n\u001b[0;32m    464\u001b[0m     \u001b[39mself\u001b[39m\u001b[39m.\u001b[39msave_args[\u001b[39m\"\u001b[39m\u001b[39mappend_images\u001b[39m\u001b[39m\"\u001b[39m] \u001b[39m=\u001b[39m \u001b[39mself\u001b[39m\u001b[39m.\u001b[39mimages_to_write\n\u001b[1;32m--> 466\u001b[0m primary_image\u001b[39m.\u001b[39msave(\u001b[39mself\u001b[39m\u001b[39m.\u001b[39m_request\u001b[39m.\u001b[39mget_file(), \u001b[39m*\u001b[39m\u001b[39m*\u001b[39m\u001b[39mself\u001b[39m\u001b[39m.\u001b[39msave_args)\n\u001b[0;32m    467\u001b[0m \u001b[39mself\u001b[39m\u001b[39m.\u001b[39mimages_to_write\u001b[39m.\u001b[39mclear()\n\u001b[0;32m    468\u001b[0m \u001b[39mself\u001b[39m\u001b[39m.\u001b[39msave_args\u001b[39m.\u001b[39mclear()\n",
      "File \u001b[1;32mc:\\Users\\kmk280\\.conda\\envs\\napari-dev-env\\lib\\site-packages\\PIL\\Image.py:2413\u001b[0m, in \u001b[0;36mImage.save\u001b[1;34m(self, fp, format, **params)\u001b[0m\n\u001b[0;32m   2410\u001b[0m         fp \u001b[39m=\u001b[39m builtins\u001b[39m.\u001b[39mopen(filename, \u001b[39m\"\u001b[39m\u001b[39mw+b\u001b[39m\u001b[39m\"\u001b[39m)\n\u001b[0;32m   2412\u001b[0m \u001b[39mtry\u001b[39;00m:\n\u001b[1;32m-> 2413\u001b[0m     save_handler(\u001b[39mself\u001b[39;49m, fp, filename)\n\u001b[0;32m   2414\u001b[0m \u001b[39mexcept\u001b[39;00m \u001b[39mException\u001b[39;00m:\n\u001b[0;32m   2415\u001b[0m     \u001b[39mif\u001b[39;00m open_fp:\n",
      "File \u001b[1;32mc:\\Users\\kmk280\\.conda\\envs\\napari-dev-env\\lib\\site-packages\\PIL\\PngImagePlugin.py:1398\u001b[0m, in \u001b[0;36m_save\u001b[1;34m(im, fp, filename, chunk, save_all)\u001b[0m\n\u001b[0;32m   1396\u001b[0m     _write_multiple_frames(im, fp, chunk, rawmode, default_image, append_images)\n\u001b[0;32m   1397\u001b[0m \u001b[39melse\u001b[39;00m:\n\u001b[1;32m-> 1398\u001b[0m     ImageFile\u001b[39m.\u001b[39;49m_save(im, _idat(fp, chunk), [(\u001b[39m\"\u001b[39;49m\u001b[39mzip\u001b[39;49m\u001b[39m\"\u001b[39;49m, (\u001b[39m0\u001b[39;49m, \u001b[39m0\u001b[39;49m) \u001b[39m+\u001b[39;49m im\u001b[39m.\u001b[39;49msize, \u001b[39m0\u001b[39;49m, rawmode)])\n\u001b[0;32m   1400\u001b[0m \u001b[39mif\u001b[39;00m info:\n\u001b[0;32m   1401\u001b[0m     \u001b[39mfor\u001b[39;00m info_chunk \u001b[39min\u001b[39;00m info\u001b[39m.\u001b[39mchunks:\n",
      "File \u001b[1;32mc:\\Users\\kmk280\\.conda\\envs\\napari-dev-env\\lib\\site-packages\\PIL\\ImageFile.py:519\u001b[0m, in \u001b[0;36m_save\u001b[1;34m(im, fp, tile, bufsize)\u001b[0m\n\u001b[0;32m    517\u001b[0m     _encode_tile(im, fp, tile, bufsize, fh)\n\u001b[0;32m    518\u001b[0m \u001b[39mexcept\u001b[39;00m (\u001b[39mAttributeError\u001b[39;00m, io\u001b[39m.\u001b[39mUnsupportedOperation) \u001b[39mas\u001b[39;00m exc:\n\u001b[1;32m--> 519\u001b[0m     _encode_tile(im, fp, tile, bufsize, \u001b[39mNone\u001b[39;49;00m, exc)\n\u001b[0;32m    520\u001b[0m \u001b[39mif\u001b[39;00m \u001b[39mhasattr\u001b[39m(fp, \u001b[39m\"\u001b[39m\u001b[39mflush\u001b[39m\u001b[39m\"\u001b[39m):\n\u001b[0;32m    521\u001b[0m     fp\u001b[39m.\u001b[39mflush()\n",
      "File \u001b[1;32mc:\\Users\\kmk280\\.conda\\envs\\napari-dev-env\\lib\\site-packages\\PIL\\ImageFile.py:538\u001b[0m, in \u001b[0;36m_encode_tile\u001b[1;34m(im, fp, tile, bufsize, fh, exc)\u001b[0m\n\u001b[0;32m    535\u001b[0m \u001b[39mif\u001b[39;00m exc:\n\u001b[0;32m    536\u001b[0m     \u001b[39m# compress to Python file-compatible object\u001b[39;00m\n\u001b[0;32m    537\u001b[0m     \u001b[39mwhile\u001b[39;00m \u001b[39mTrue\u001b[39;00m:\n\u001b[1;32m--> 538\u001b[0m         errcode, data \u001b[39m=\u001b[39m encoder\u001b[39m.\u001b[39;49mencode(bufsize)[\u001b[39m1\u001b[39m:]\n\u001b[0;32m    539\u001b[0m         fp\u001b[39m.\u001b[39mwrite(data)\n\u001b[0;32m    540\u001b[0m         \u001b[39mif\u001b[39;00m errcode:\n",
      "\u001b[1;31mKeyboardInterrupt\u001b[0m: "
     ]
    }
   ],
   "source": [
    "# Create random initial positions, velocities, sizes, and intensities for the objects\n",
    "positions = np.random.rand(N, 2)  # Random (x, y) positions between 0 and 1\n",
    "velocities = np.random.uniform(-0.001,0.001,(N, 2))  # Random (vx, vy) velocities between 0 and 1\n",
    "sizes = np.random.uniform(0.0005, 0.001, N)  # Random sizes between 0.1 and 0.5\n",
    "intensities = np.random.uniform(0.2, 1, N)  # Random intensities between 0.5 and 1.0\n",
    "\n",
    "# Create an empty array to store frames\n",
    "frames = []\n",
    "\n",
    "\n",
    "\n",
    "for frame in range(M):\n",
    "    # Create an empty frame\n",
    "    frame_data = np.zeros((frame_size, frame_size), dtype=np.uint16)\n",
    "    \n",
    "    # Update the positions based on velocities\n",
    "    positions += velocities\n",
    "    \n",
    "    # Wrap objects around the screen (optional)\n",
    "    positions = positions % 1.0\n",
    "    \n",
    "    for i in range(N):\n",
    "        # Calculate the clipped position within the frame\n",
    "        pos_x = int(np.clip(positions[i, 0] * frame_size, 0, frame_size - 1))\n",
    "        pos_y = int(np.clip(positions[i, 1] * frame_size, 0, frame_size - 1))\n",
    "        \n",
    "        # Calculate the disk region to draw\n",
    "        rr, cc = disk((pos_x, pos_y), int(sizes[i] * frame_size))\n",
    "\n",
    "        valid_indexes = np.array([[r,c] for r,c in zip(rr,cc) if ((r < frame_size - 1) and (c < frame_size - 1) and (r > 0) and (c > 0))])\n",
    "        rr = valid_indexes[:,0]\n",
    "        cc = valid_indexes[:,1]\n",
    "        \n",
    "        # Add the intensity to the frame\n",
    "        frame_data[rr, cc] = int(intensities[i] * 2**16-1)\n",
    "\n",
    "    # Add noise\n",
    "    frame_noise = (random_noise(frame_data, mode='gaussian',clip=False,var=0.001)*2**16-1)\n",
    "    frame_noise[frame_noise<0] = 0\n",
    "    frame_noise = frame_noise.astype(np.uint16)\n",
    "\n",
    "    # Save frame\n",
    "    imsave(os.path.join(data_dir,f'{str(frame).zfill(3)}.png'), frame_noise)\n",
    "    "
   ]
  },
  {
   "cell_type": "code",
   "execution_count": 7,
   "metadata": {},
   "outputs": [],
   "source": [
    "lazy_arrays = [delayed(imread)(os.path.join(data_dir,f'{str(i).zfill(3)}.png')) for i in range(M)]\n",
    "dask_arrays = [da.from_delayed(delayed_reader, shape=[frame_size,frame_size], dtype='uint16') for delayed_reader in lazy_arrays]\n",
    "stack = da.stack(dask_arrays, axis=0)"
   ]
  },
  {
   "cell_type": "code",
   "execution_count": 9,
   "metadata": {},
   "outputs": [],
   "source": [
    "zarr_path = './todel.zarr'"
   ]
  },
  {
   "cell_type": "code",
   "execution_count": 10,
   "metadata": {},
   "outputs": [
    {
     "data": {
      "text/plain": [
       "[]"
      ]
     },
     "execution_count": 10,
     "metadata": {},
     "output_type": "execute_result"
    }
   ],
   "source": [
    "# save zarr file\n",
    "size_t = 10\n",
    "size_xy = 512\n",
    "\n",
    "\n",
    "# write the image data\n",
    "store = parse_url(zarr_path, mode=\"w\").store\n",
    "root = zarr.group(store=store)\n",
    "\n",
    "# it will fail if the store already contains arrays\n",
    "write_image(image=stack, group=root, axes=\"tyx\", storage_options=dict(chunks=(size_t,size_xy, size_xy)))"
   ]
  },
  {
   "cell_type": "code",
   "execution_count": 13,
   "metadata": {},
   "outputs": [],
   "source": [
    "# view data\n",
    "'''\n",
    "reader = Reader(parse_url(zarr_path))\n",
    "\n",
    "image_node = list(reader())[0]\n",
    "dask_data = image_node.data\n",
    "\n",
    "viewer1 = napari.Viewer()\n",
    "viewer1.add_image(dask_data,name=napari.__version__,contrast_limits=[0,50000])\n",
    "'''"
   ]
  }
 ],
 "metadata": {
  "kernelspec": {
   "display_name": "napari-env",
   "language": "python",
   "name": "python3"
  },
  "language_info": {
   "codemirror_mode": {
    "name": "ipython",
    "version": 3
   },
   "file_extension": ".py",
   "mimetype": "text/x-python",
   "name": "python",
   "nbconvert_exporter": "python",
   "pygments_lexer": "ipython3",
   "version": "3.9.18"
  }
 },
 "nbformat": 4,
 "nbformat_minor": 2
}
